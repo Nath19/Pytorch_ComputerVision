{
  "nbformat": 4,
  "nbformat_minor": 0,
  "metadata": {
    "colab": {
      "name": "Intro_Tensor.ipynb",
      "provenance": [],
      "collapsed_sections": []
    },
    "kernelspec": {
      "name": "python3",
      "display_name": "Python 3"
    }
  },
  "cells": [
    {
      "cell_type": "markdown",
      "metadata": {
        "id": "ZUhX9oZ8cu8n",
        "colab_type": "text"
      },
      "source": [
        "# Intro to Tensors"
      ]
    },
    {
      "cell_type": "markdown",
      "metadata": {
        "id": "xZ4qrAJGc3Ap",
        "colab_type": "text"
      },
      "source": [
        "### Dimensional Tensors"
      ]
    },
    {
      "cell_type": "code",
      "metadata": {
        "id": "juVjoLBZcmaI",
        "colab_type": "code",
        "colab": {
          "base_uri": "https://localhost:8080/",
          "height": 68
        },
        "outputId": "67c6493e-45e1-4c80-838a-bf4f4502abb5"
      },
      "source": [
        "!pip3 install torch"
      ],
      "execution_count": 1,
      "outputs": [
        {
          "output_type": "stream",
          "text": [
            "Requirement already satisfied: torch in /usr/local/lib/python3.6/dist-packages (1.5.1+cu101)\n",
            "Requirement already satisfied: future in /usr/local/lib/python3.6/dist-packages (from torch) (0.16.0)\n",
            "Requirement already satisfied: numpy in /usr/local/lib/python3.6/dist-packages (from torch) (1.18.5)\n"
          ],
          "name": "stdout"
        }
      ]
    },
    {
      "cell_type": "code",
      "metadata": {
        "id": "DjcvbrgxdTf2",
        "colab_type": "code",
        "colab": {}
      },
      "source": [
        "import torch\n",
        "import numpy as np\n",
        "import matplotlib.pyplot as plt\n"
      ],
      "execution_count": 40,
      "outputs": []
    },
    {
      "cell_type": "code",
      "metadata": {
        "id": "WaazjjSydWLd",
        "colab_type": "code",
        "colab": {
          "base_uri": "https://localhost:8080/",
          "height": 68
        },
        "outputId": "f50d2199-a9dc-4dd9-978b-8596eb9c11e5"
      },
      "source": [
        "#create one dim tensors\n",
        "v = torch.tensor([1,2,3,4,5,6])\n",
        "print(v)\n",
        "print(v.dtype)\n",
        "print(v[0]) #access element"
      ],
      "execution_count": 15,
      "outputs": [
        {
          "output_type": "stream",
          "text": [
            "tensor([1, 2, 3, 4, 5, 6])\n",
            "torch.int64\n",
            "tensor(1)\n"
          ],
          "name": "stdout"
        }
      ]
    },
    {
      "cell_type": "code",
      "metadata": {
        "id": "NCXbAF0UdcJh",
        "colab_type": "code",
        "colab": {
          "base_uri": "https://localhost:8080/",
          "height": 68
        },
        "outputId": "14437e68-5624-43cd-fe1d-ff2f91f6a6ac"
      },
      "source": [
        "#Slicing\n",
        "v1 = torch.tensor([1,2,3,4,5,6])\n",
        "print(v1[1:4])\n",
        "print(v1[1:])\n",
        "print(v1.size())"
      ],
      "execution_count": 13,
      "outputs": [
        {
          "output_type": "stream",
          "text": [
            "tensor([2, 3, 4])\n",
            "tensor([2, 3, 4, 5, 6])\n",
            "torch.Size([6])\n"
          ],
          "name": "stdout"
        }
      ]
    },
    {
      "cell_type": "code",
      "metadata": {
        "id": "ohNkRayQd01r",
        "colab_type": "code",
        "colab": {
          "base_uri": "https://localhost:8080/",
          "height": 68
        },
        "outputId": "b3b4ff33-a689-44b0-8270-bffe6a213189"
      },
      "source": [
        "#Float\n",
        "f = torch.FloatTensor([1,2,3,4,5,6])\n",
        "print(f)\n",
        "print(f.dtype)\n",
        "print(f.size())\n"
      ],
      "execution_count": 12,
      "outputs": [
        {
          "output_type": "stream",
          "text": [
            "tensor([1., 2., 3., 4., 5., 6.])\n",
            "torch.float32\n",
            "torch.Size([6])\n"
          ],
          "name": "stdout"
        }
      ]
    },
    {
      "cell_type": "code",
      "metadata": {
        "id": "X3ZG239QeC7l",
        "colab_type": "code",
        "colab": {
          "base_uri": "https://localhost:8080/",
          "height": 238
        },
        "outputId": "4f16505d-718f-43cd-99f1-9406a08ad8a1"
      },
      "source": [
        "#New Dimensions\n",
        "print(v.view(6,1)) #  => (6 rows, 1 col)\n",
        "print(v.view(2,3)) #  => (2 rows, 3 col)\n",
        "print(v.view(3,2)) #  => (3 rows, 2 col)\n",
        "print(v.view(2,-1)) # by putting -1 we don't need to specify col"
      ],
      "execution_count": 28,
      "outputs": [
        {
          "output_type": "stream",
          "text": [
            "tensor([[1],\n",
            "        [2],\n",
            "        [3],\n",
            "        [4],\n",
            "        [5],\n",
            "        [6]])\n",
            "tensor([[1, 2, 3],\n",
            "        [4, 5, 6]])\n",
            "tensor([[1, 2],\n",
            "        [3, 4],\n",
            "        [5, 6]])\n",
            "tensor([[1, 2, 3],\n",
            "        [4, 5, 6]])\n"
          ],
          "name": "stdout"
        }
      ]
    },
    {
      "cell_type": "code",
      "metadata": {
        "id": "xvNUOk1oeR5I",
        "colab_type": "code",
        "colab": {
          "base_uri": "https://localhost:8080/",
          "height": 102
        },
        "outputId": "228ee07c-11e6-4d18-8b10-790a4f1beffd"
      },
      "source": [
        "a = np.array([1,2,3,4,5])\n",
        "print(a)\n",
        "#How to convert numpy array to tensors ?\n",
        "\n",
        "tensor_cnv = torch.from_numpy(a)\n",
        "print(tensor_cnv)\n",
        "print(tensor_cnv.dtype)\n",
        "\n",
        "#How to convert tensors to numpy array ?\n",
        "print(\"==============================\")\n",
        "numpy_cnv = tensor_cnv.numpy()\n",
        "print(numpy_cnv)"
      ],
      "execution_count": 33,
      "outputs": [
        {
          "output_type": "stream",
          "text": [
            "[1 2 3 4 5]\n",
            "tensor([1, 2, 3, 4, 5])\n",
            "torch.int64\n",
            "==============================\n",
            "[1 2 3 4 5]\n"
          ],
          "name": "stdout"
        }
      ]
    },
    {
      "cell_type": "markdown",
      "metadata": {
        "id": "Wk1rpwmBgOTq",
        "colab_type": "text"
      },
      "source": [
        "### Vector Operations"
      ]
    },
    {
      "cell_type": "code",
      "metadata": {
        "id": "qusv85xje281",
        "colab_type": "code",
        "colab": {
          "base_uri": "https://localhost:8080/",
          "height": 153
        },
        "outputId": "c31d1d8d-3d5a-4dc6-b6f7-9c365d1480bc"
      },
      "source": [
        "t_one = torch.tensor([1,2,3])\n",
        "t_two = torch.tensor([1,2,3])\n",
        "#Operations\n",
        "print(\"==============================\")\n",
        "print('Addition')\n",
        "print(t_one + t_two)\n",
        "print(t_one *5)\n",
        "print(t_one * t_two)\n",
        "print(\"==============================\")\n",
        "print('Dot Product')\n",
        "dot_product = torch.dot(t_one,t_two)\n",
        "print(dot_product)\n"
      ],
      "execution_count": 42,
      "outputs": [
        {
          "output_type": "stream",
          "text": [
            "==============================\n",
            "Addition\n",
            "tensor([2, 4, 6])\n",
            "tensor([ 5, 10, 15])\n",
            "tensor([1, 4, 9])\n",
            "==============================\n",
            "Dot Product\n",
            "tensor(14)\n"
          ],
          "name": "stdout"
        }
      ]
    },
    {
      "cell_type": "code",
      "metadata": {
        "id": "YTBsiRJnh0I_",
        "colab_type": "code",
        "colab": {
          "base_uri": "https://localhost:8080/",
          "height": 316
        },
        "outputId": "1ce3d11a-1798-4902-c729-eca428a8b52a"
      },
      "source": [
        "print(\"==============================\")\n",
        "print('LinSpace')\n",
        "torch.linspace(0,10) #print 100 number from 0 to ten\n",
        "x = torch.linspace(0,10,5)\n",
        "y=torch.exp(x)\n",
        "plt.plot(x,y)"
      ],
      "execution_count": 43,
      "outputs": [
        {
          "output_type": "stream",
          "text": [
            "==============================\n",
            "LinSpace\n"
          ],
          "name": "stdout"
        },
        {
          "output_type": "execute_result",
          "data": {
            "text/plain": [
              "[<matplotlib.lines.Line2D at 0x7f57f1367c50>]"
            ]
          },
          "metadata": {
            "tags": []
          },
          "execution_count": 43
        },
        {
          "output_type": "display_data",
          "data": {
            "image/png": "[encoded data removed]",
            "text/plain": [
              "<Figure size 432x288 with 1 Axes>"
            ]
          },
          "metadata": {
            "tags": [],
            "needs_background": "light"
          }
        }
      ]
    },
    {
      "cell_type": "code",
      "metadata": {
        "id": "QDr7EqZsiuKX",
        "colab_type": "code",
        "colab": {
          "base_uri": "https://localhost:8080/",
          "height": 282
        },
        "outputId": "7d1a2fcd-0058-445e-a04b-b12dff76fe5c"
      },
      "source": [
        "plt.plot(x.numpy(),y.numpy())"
      ],
      "execution_count": 44,
      "outputs": [
        {
          "output_type": "execute_result",
          "data": {
            "text/plain": [
              "[<matplotlib.lines.Line2D at 0x7f57f0dd5828>]"
            ]
          },
          "metadata": {
            "tags": []
          },
          "execution_count": 44
        },
        {
          "output_type": "display_data",
          "data": {
            "image/png": "[encoded data removed]",
            "text/plain": [
              "<Figure size 432x288 with 1 Axes>"
            ]
          },
          "metadata": {
            "tags": [],
            "needs_background": "light"
          }
        }
      ]
    },
    {
      "cell_type": "markdown",
      "metadata": {
        "id": "oF9L_hCBoclo",
        "colab_type": "text"
      },
      "source": [
        "### 2D Tensors"
      ]
    },
    {
      "cell_type": "code",
      "metadata": {
        "id": "-w7Yf0hPkQ-i",
        "colab_type": "code",
        "colab": {
          "base_uri": "https://localhost:8080/",
          "height": 34
        },
        "outputId": "75991b33-a008-4a34-d258-9547a90ddd54"
      },
      "source": [
        "one_d = torch.arange(0,9) #similar to range in list\n",
        "one_d"
      ],
      "execution_count": 46,
      "outputs": [
        {
          "output_type": "execute_result",
          "data": {
            "text/plain": [
              "tensor([0, 1, 2, 3, 4, 5, 6, 7, 8])"
            ]
          },
          "metadata": {
            "tags": []
          },
          "execution_count": 46
        }
      ]
    },
    {
      "cell_type": "code",
      "metadata": {
        "id": "qzhrn2BKous0",
        "colab_type": "code",
        "colab": {
          "base_uri": "https://localhost:8080/",
          "height": 170
        },
        "outputId": "3792d19f-0585-4cf0-c342-af71fe55aa6d"
      },
      "source": [
        "two_d = one_d.view(3,3)\n",
        "print(two_d)\n",
        "print(two_d.dim())\n",
        "print(\"==============================\")\n",
        "print(\"SLICING\")\n",
        "print(two_d[0,2])\n",
        "print(two_d[1,2])\n",
        "print(two_d[2,2])"
      ],
      "execution_count": 58,
      "outputs": [
        {
          "output_type": "stream",
          "text": [
            "tensor([[0, 1, 2],\n",
            "        [3, 4, 5],\n",
            "        [6, 7, 8]])\n",
            "2\n",
            "==============================\n",
            "SLICING\n",
            "tensor(2)\n",
            "tensor(5)\n",
            "tensor(8)\n"
          ],
          "name": "stdout"
        }
      ]
    },
    {
      "cell_type": "code",
      "metadata": {
        "id": "TmDhmvc2o6id",
        "colab_type": "code",
        "colab": {
          "base_uri": "https://localhost:8080/",
          "height": 34
        },
        "outputId": "4280e0b7-681b-43ab-970c-c53dfb5c15cf"
      },
      "source": [
        "x = torch.arange(18)\n",
        "x"
      ],
      "execution_count": 60,
      "outputs": [
        {
          "output_type": "execute_result",
          "data": {
            "text/plain": [
              "tensor([ 0,  1,  2,  3,  4,  5,  6,  7,  8,  9, 10, 11, 12, 13, 14, 15, 16, 17])"
            ]
          },
          "metadata": {
            "tags": []
          },
          "execution_count": 60
        }
      ]
    },
    {
      "cell_type": "code",
      "metadata": {
        "id": "54cRCfmWplSb",
        "colab_type": "code",
        "colab": {
          "base_uri": "https://localhost:8080/",
          "height": 119
        },
        "outputId": "5c0b1e52-661e-4815-dff5-fe54b93e88dc"
      },
      "source": [
        "x.view(6,3)"
      ],
      "execution_count": 62,
      "outputs": [
        {
          "output_type": "execute_result",
          "data": {
            "text/plain": [
              "tensor([[ 0,  1,  2],\n",
              "        [ 3,  4,  5],\n",
              "        [ 6,  7,  8],\n",
              "        [ 9, 10, 11],\n",
              "        [12, 13, 14],\n",
              "        [15, 16, 17]])"
            ]
          },
          "metadata": {
            "tags": []
          },
          "execution_count": 62
        }
      ]
    },
    {
      "cell_type": "code",
      "metadata": {
        "id": "VMLbeJ25proz",
        "colab_type": "code",
        "colab": {
          "base_uri": "https://localhost:8080/",
          "height": 136
        },
        "outputId": "149f5e91-63b4-485c-f6d4-026fd0476f31"
      },
      "source": [
        "x = torch.arange(18).view(2,3,3) # => (2 block, 3 row, 3 col)\n",
        "x"
      ],
      "execution_count": 64,
      "outputs": [
        {
          "output_type": "execute_result",
          "data": {
            "text/plain": [
              "tensor([[[ 0,  1,  2],\n",
              "         [ 3,  4,  5],\n",
              "         [ 6,  7,  8]],\n",
              "\n",
              "        [[ 9, 10, 11],\n",
              "         [12, 13, 14],\n",
              "         [15, 16, 17]]])"
            ]
          },
          "metadata": {
            "tags": []
          },
          "execution_count": 64
        }
      ]
    },
    {
      "cell_type": "code",
      "metadata": {
        "id": "0olLP-yypy3s",
        "colab_type": "code",
        "colab": {
          "base_uri": "https://localhost:8080/",
          "height": 204
        },
        "outputId": "a2d09be3-51d0-44fc-f9b3-560bccccf023"
      },
      "source": [
        "x = torch.arange(27).view(3,3,3) # => (3 block, 3 row, 3 col)\n",
        "x"
      ],
      "execution_count": 65,
      "outputs": [
        {
          "output_type": "execute_result",
          "data": {
            "text/plain": [
              "tensor([[[ 0,  1,  2],\n",
              "         [ 3,  4,  5],\n",
              "         [ 6,  7,  8]],\n",
              "\n",
              "        [[ 9, 10, 11],\n",
              "         [12, 13, 14],\n",
              "         [15, 16, 17]],\n",
              "\n",
              "        [[18, 19, 20],\n",
              "         [21, 22, 23],\n",
              "         [24, 25, 26]]])"
            ]
          },
          "metadata": {
            "tags": []
          },
          "execution_count": 65
        }
      ]
    },
    {
      "cell_type": "markdown",
      "metadata": {
        "id": "ro4cZ9C1qcCq",
        "colab_type": "text"
      },
      "source": [
        "### Slicing 3D Tensors"
      ]
    },
    {
      "cell_type": "code",
      "metadata": {
        "id": "UV2STF82qFoR",
        "colab_type": "code",
        "colab": {
          "base_uri": "https://localhost:8080/",
          "height": 153
        },
        "outputId": "523826a9-7d45-47dd-c7fb-fd59764d3e4a"
      },
      "source": [
        "x = torch.arange(18).view(3,2,3)\n",
        "x"
      ],
      "execution_count": 67,
      "outputs": [
        {
          "output_type": "execute_result",
          "data": {
            "text/plain": [
              "tensor([[[ 0,  1,  2],\n",
              "         [ 3,  4,  5]],\n",
              "\n",
              "        [[ 6,  7,  8],\n",
              "         [ 9, 10, 11]],\n",
              "\n",
              "        [[12, 13, 14],\n",
              "         [15, 16, 17]]])"
            ]
          },
          "metadata": {
            "tags": []
          },
          "execution_count": 67
        }
      ]
    },
    {
      "cell_type": "code",
      "metadata": {
        "id": "4k8aC1Qbqj-l",
        "colab_type": "code",
        "colab": {
          "base_uri": "https://localhost:8080/",
          "height": 68
        },
        "outputId": "dd8051b5-6dd2-4aad-b3c2-05699c65d986"
      },
      "source": [
        "print(x[1,1,1])\n",
        "print(x[2,1,1])\n",
        "print(x[2,0,0])"
      ],
      "execution_count": 70,
      "outputs": [
        {
          "output_type": "stream",
          "text": [
            "tensor(10)\n",
            "tensor(16)\n",
            "tensor(12)\n"
          ],
          "name": "stdout"
        }
      ]
    },
    {
      "cell_type": "code",
      "metadata": {
        "id": "LfrV5N_LqqMb",
        "colab_type": "code",
        "colab": {
          "base_uri": "https://localhost:8080/",
          "height": 102
        },
        "outputId": "c4b58d37-da94-41d0-bad1-9e05419a6009"
      },
      "source": [
        "print(\"==============================\")\n",
        "print(x[1,0:2,0:3])\n",
        "print(x[1,:,:])"
      ],
      "execution_count": 72,
      "outputs": [
        {
          "output_type": "stream",
          "text": [
            "==============================\n",
            "tensor([[ 6,  7,  8],\n",
            "        [ 9, 10, 11]])\n",
            "tensor([[ 6,  7,  8],\n",
            "        [ 9, 10, 11]])\n"
          ],
          "name": "stdout"
        }
      ]
    },
    {
      "cell_type": "markdown",
      "metadata": {
        "id": "eOv5YU4OrdXr",
        "colab_type": "text"
      },
      "source": [
        "### Matrix Multiplication"
      ]
    },
    {
      "cell_type": "code",
      "metadata": {
        "id": "_EVdIaZdrKB-",
        "colab_type": "code",
        "colab": {
          "base_uri": "https://localhost:8080/",
          "height": 51
        },
        "outputId": "8ff01f3f-8bcd-4224-999d-48101f1e3348"
      },
      "source": [
        "mat_a = torch.tensor([0,3,5,5,5,2]).view(2,3)\n",
        "mat_a"
      ],
      "execution_count": 73,
      "outputs": [
        {
          "output_type": "execute_result",
          "data": {
            "text/plain": [
              "tensor([[0, 3, 5],\n",
              "        [5, 5, 2]])"
            ]
          },
          "metadata": {
            "tags": []
          },
          "execution_count": 73
        }
      ]
    },
    {
      "cell_type": "code",
      "metadata": {
        "id": "2RePZ8nos-Lo",
        "colab_type": "code",
        "colab": {
          "base_uri": "https://localhost:8080/",
          "height": 68
        },
        "outputId": "431341eb-33c6-4278-e5db-db022601d2e4"
      },
      "source": [
        "mat_b = torch.tensor([3,4,3,-2,4,-2]).view(3,2)\n",
        "mat_b"
      ],
      "execution_count": 74,
      "outputs": [
        {
          "output_type": "execute_result",
          "data": {
            "text/plain": [
              "tensor([[ 3,  4],\n",
              "        [ 3, -2],\n",
              "        [ 4, -2]])"
            ]
          },
          "metadata": {
            "tags": []
          },
          "execution_count": 74
        }
      ]
    },
    {
      "cell_type": "code",
      "metadata": {
        "id": "rTjuCIXrtJzM",
        "colab_type": "code",
        "colab": {
          "base_uri": "https://localhost:8080/",
          "height": 136
        },
        "outputId": "0b86bc3a-1dcb-44cc-dafe-66d9fc6a06d2"
      },
      "source": [
        "print(\"==============================\")\n",
        "print(\"Multiplication\")\n",
        "print(torch.matmul(mat_a,mat_b))\n",
        "print(\"Same result\")\n",
        "mat_a @ mat_b "
      ],
      "execution_count": 77,
      "outputs": [
        {
          "output_type": "stream",
          "text": [
            "==============================\n",
            "Multiplication\n",
            "tensor([[ 29, -16],\n",
            "        [ 38,   6]])\n",
            "Same result\n"
          ],
          "name": "stdout"
        },
        {
          "output_type": "execute_result",
          "data": {
            "text/plain": [
              "tensor([[ 29, -16],\n",
              "        [ 38,   6]])"
            ]
          },
          "metadata": {
            "tags": []
          },
          "execution_count": 77
        }
      ]
    },
    {
      "cell_type": "markdown",
      "metadata": {
        "id": "OdFhODJMtdT8",
        "colab_type": "text"
      },
      "source": [
        "### Derivatives"
      ]
    },
    {
      "cell_type": "code",
      "metadata": {
        "id": "URRr8qIqtT-F",
        "colab_type": "code",
        "colab": {
          "base_uri": "https://localhost:8080/",
          "height": 34
        },
        "outputId": "0a4737ca-8681-4142-9ecb-373532559e74"
      },
      "source": [
        "x = torch.tensor(2.0, requires_grad=True)\n",
        "y = 9 *x**4 + 2*x**3+3*x**2+6*x+1\n",
        "#Let's compute the derivative\n",
        "y.backward()\n",
        "x.grad"
      ],
      "execution_count": 79,
      "outputs": [
        {
          "output_type": "execute_result",
          "data": {
            "text/plain": [
              "tensor(330.)"
            ]
          },
          "metadata": {
            "tags": []
          },
          "execution_count": 79
        }
      ]
    },
    {
      "cell_type": "code",
      "metadata": {
        "id": "7BcBhEN8uU43",
        "colab_type": "code",
        "colab": {}
      },
      "source": [
        "x = torch.tensor(1.0, requires_grad=True)\n",
        "z = torch.tensor(2.0,requires_grad=True)\n",
        "y = x**2+z**3\n",
        "#Let's compute the derivative\n",
        "y.backward()"
      ],
      "execution_count": 80,
      "outputs": []
    },
    {
      "cell_type": "code",
      "metadata": {
        "id": "hv04mjkhuuun",
        "colab_type": "code",
        "colab": {
          "base_uri": "https://localhost:8080/",
          "height": 34
        },
        "outputId": "4cdfb8c2-f177-44c0-e38c-9b28b19cc94c"
      },
      "source": [
        "x.grad"
      ],
      "execution_count": 81,
      "outputs": [
        {
          "output_type": "execute_result",
          "data": {
            "text/plain": [
              "tensor(4.)"
            ]
          },
          "metadata": {
            "tags": []
          },
          "execution_count": 81
        }
      ]
    },
    {
      "cell_type": "code",
      "metadata": {
        "id": "amFOhoRKuv-u",
        "colab_type": "code",
        "colab": {
          "base_uri": "https://localhost:8080/",
          "height": 34
        },
        "outputId": "74d9db0b-bd0d-40f8-b4e8-431ecba4c19e"
      },
      "source": [
        "z.grad"
      ],
      "execution_count": 82,
      "outputs": [
        {
          "output_type": "execute_result",
          "data": {
            "text/plain": [
              "tensor(12.)"
            ]
          },
          "metadata": {
            "tags": []
          },
          "execution_count": 82
        }
      ]
    }
  ]
}